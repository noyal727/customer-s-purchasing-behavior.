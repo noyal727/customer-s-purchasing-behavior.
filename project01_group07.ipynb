{
 "cells": [
  {
   "cell_type": "code",
   "execution_count": 1,
   "id": "d322ab45",
   "metadata": {},
   "outputs": [],
   "source": [
    "import os\n",
    "import math\n",
    "import pandas as pd\n",
    "import numpy as np\n",
    "import matplotlib.pyplot as plt\n",
    "from scipy.optimize import minimize, least_squares\n",
    "from scipy.stats import poisson, gamma"
   ]
  },
  {
   "cell_type": "markdown",
   "id": "49dc01ea",
   "metadata": {},
   "source": [
    "### Question 1"
   ]
  },
  {
   "cell_type": "code",
   "execution_count": 35,
   "id": "f9849eb3",
   "metadata": {},
   "outputs": [
    {
     "data": {
      "text/html": [
       "<div>\n",
       "<style scoped>\n",
       "    .dataframe tbody tr th:only-of-type {\n",
       "        vertical-align: middle;\n",
       "    }\n",
       "\n",
       "    .dataframe tbody tr th {\n",
       "        vertical-align: top;\n",
       "    }\n",
       "\n",
       "    .dataframe thead th {\n",
       "        text-align: right;\n",
       "    }\n",
       "</style>\n",
       "<table border=\"1\" class=\"dataframe\">\n",
       "  <thead>\n",
       "    <tr style=\"text-align: right;\">\n",
       "      <th></th>\n",
       "      <th>EXPOSURES</th>\n",
       "      <th>PEOPLE</th>\n",
       "    </tr>\n",
       "  </thead>\n",
       "  <tbody>\n",
       "    <tr>\n",
       "      <th>0</th>\n",
       "      <td>0</td>\n",
       "      <td>48</td>\n",
       "    </tr>\n",
       "    <tr>\n",
       "      <th>1</th>\n",
       "      <td>1</td>\n",
       "      <td>37</td>\n",
       "    </tr>\n",
       "    <tr>\n",
       "      <th>2</th>\n",
       "      <td>2</td>\n",
       "      <td>30</td>\n",
       "    </tr>\n",
       "    <tr>\n",
       "      <th>3</th>\n",
       "      <td>3</td>\n",
       "      <td>24</td>\n",
       "    </tr>\n",
       "    <tr>\n",
       "      <th>4</th>\n",
       "      <td>4</td>\n",
       "      <td>20</td>\n",
       "    </tr>\n",
       "  </tbody>\n",
       "</table>\n",
       "</div>"
      ],
      "text/plain": [
       "   EXPOSURES  PEOPLE\n",
       "0          0      48\n",
       "1          1      37\n",
       "2          2      30\n",
       "3          3      24\n",
       "4          4      20"
      ]
     },
     "execution_count": 35,
     "metadata": {},
     "output_type": "execute_result"
    }
   ],
   "source": [
    "billboard = pd.read_csv('billboard.csv')\n",
    "billboard.head()"
   ]
  },
  {
   "cell_type": "code",
   "execution_count": 99,
   "id": "b86accff",
   "metadata": {},
   "outputs": [
    {
     "data": {
      "text/plain": [
       "[array([ 0,  1,  2,  3,  4,  5,  6,  7,  8,  9, 10, 11, 12, 13, 14, 15, 16,\n",
       "        17, 18, 19, 20, 21, 22, 23]),\n",
       " array([48, 37, 30, 24, 20, 16, 13, 11,  9,  7,  6,  5,  5,  3,  3,  2,  2,\n",
       "         2,  1,  1,  2,  1,  1,  1])]"
      ]
     },
     "execution_count": 99,
     "metadata": {},
     "output_type": "execute_result"
    }
   ],
   "source": [
    "a1 = np.array(billboard.loc[:,'PEOPLE'])#define the first array that will go through the poisson_model function\n",
    "a2 = np.array(billboard.loc[:,'EXPOSURES'])#define the second array that will go through poisson_model\n",
    "[a2,a1]"
   ]
  },
  {
   "cell_type": "code",
   "execution_count": 102,
   "id": "ee6c8487",
   "metadata": {},
   "outputs": [
    {
     "name": "stderr",
     "output_type": "stream",
     "text": [
      "/var/folders/z4/v_l0j_d955xggmv5v8_n36640000gn/T/ipykernel_44863/2739926952.py:5: RuntimeWarning: divide by zero encountered in log\n",
      "  ll += a1[i]*np.log(prob)\n"
     ]
    }
   ],
   "source": [
    "def poisson_model(lamda, a1, a2):\n",
    "    ll = 0 #we create a variable that will store the cummulative sum of the iteration below\n",
    "    for i in range(len(a2)):\n",
    "        prob = poisson.pmf(k=a2[i], mu=lamda)\n",
    "        ll += a1[i]*np.log(prob)\n",
    "    return -1*ll\n",
    "soln = minimize(\n",
    "    poisson_model,\n",
    "    args = (a1, a2),\n",
    "    x0 = np.array((1)),\n",
    "    bounds=[(0.000001,None)],\n",
    "    tol=1e-10,\n",
    "    options={'ftol' : 1e-8},\n",
    ")"
   ]
  },
  {
   "cell_type": "code",
   "execution_count": 104,
   "id": "6ede19d2",
   "metadata": {},
   "outputs": [
    {
     "data": {
      "text/plain": [
       "[1729.640056651523,\n",
       "      fun: array([929.04388273])\n",
       "      jac: array([-7.62939453e-06])\n",
       "  message: 'Optimization terminated successfully'\n",
       "     nfev: 19\n",
       "      nit: 7\n",
       "     njev: 7\n",
       "   status: 0\n",
       "  success: True\n",
       "        x: array([4.45600006])]"
      ]
     },
     "execution_count": 104,
     "metadata": {},
     "output_type": "execute_result"
    }
   ],
   "source": [
    "lamda = 1\n",
    "[poisson_model(lamda, a1, a2),\n",
    "soln]"
   ]
  },
  {
   "cell_type": "code",
   "execution_count": 105,
   "id": "1ccd37ac",
   "metadata": {},
   "outputs": [
    {
     "name": "stdout",
     "output_type": "stream",
     "text": [
      "Lambda value for poisson model after optimzation:4.456000057631195\n",
      "MAX_LL:-929.0438827272923\n"
     ]
    }
   ],
   "source": [
    "lmbda_result = soln.x[0]\n",
    "z = 0\n",
    "for i in range(len(a1)):\n",
    "    z += a1[i]*np.log(poisson.pmf(a2[i],lmbda_result))\n",
    "\n",
    "print(\"Lambda value for poisson model after optimzation:{}\".format(lmbda_result))\n",
    "print(\"MAX_LL:{}\".format(c))"
   ]
  },
  {
   "cell_type": "markdown",
   "id": "525e7276",
   "metadata": {},
   "source": [
    "### Question 2  The NBD Model"
   ]
  },
  {
   "cell_type": "code",
   "execution_count": 109,
   "id": "7ff20e97",
   "metadata": {},
   "outputs": [
    {
     "name": "stderr",
     "output_type": "stream",
     "text": [
      "/var/folders/z4/v_l0j_d955xggmv5v8_n36640000gn/T/ipykernel_44863/2080087608.py:11: RuntimeWarning: divide by zero encountered in log\n",
      "  ll += a1[i]*np.log(prob[i])\n"
     ]
    }
   ],
   "source": [
    "def nbd(params, a1, a2):\n",
    "    shape, scale = params\n",
    "    ll = 0\n",
    "    prob = []\n",
    "    for i in range(len(a2)):\n",
    "        k = a2[i]\n",
    "        if i == 0:\n",
    "            prob.append((scale/(scale+1))**shape)\n",
    "        else:\n",
    "            prob.append(((shape+k-1)/(k*(scale+1)))*prob[i-1])\n",
    "        ll += a1[i]*np.log(prob[i])\n",
    "    return -1*ll\n",
    "soln = minimize(\n",
    "    nbd,\n",
    "    method='SLSQP',\n",
    "    args = (a1, a2),\n",
    "    x0 = np.array((10, 10)),\n",
    "    bounds=[(0.000000001, None), (0.000000001, None)],\n",
    "    tol=1e-10,\n",
    "    options={'ftol' : 1e-8},\n",
    ")"
   ]
  },
  {
   "cell_type": "code",
   "execution_count": 110,
   "id": "d010de82",
   "metadata": {},
   "outputs": [
    {
     "data": {
      "text/plain": [
       "[868.3794964318045,\n",
       "      fun: 649.6888274839724\n",
       "      jac: array([-0.00040436,  0.0009079 ])\n",
       "  message: 'Optimization terminated successfully'\n",
       "     nfev: 102\n",
       "      nit: 28\n",
       "     njev: 28\n",
       "   status: 0\n",
       "  success: True\n",
       "        x: array([0.96925708, 0.21751751])]"
      ]
     },
     "execution_count": 110,
     "metadata": {},
     "output_type": "execute_result"
    }
   ],
   "source": [
    "params = (0.6, 0.6)\n",
    "[nbd(params, a1, a2), soln]"
   ]
  },
  {
   "cell_type": "code",
   "execution_count": 15,
   "id": "83894cbf",
   "metadata": {},
   "outputs": [
    {
     "name": "stdout",
     "output_type": "stream",
     "text": [
      "shape: 0.9692570782518828 \n",
      "scale: 0.21751751012440285 \n",
      "MAX_LL: -649.6888274839724\n"
     ]
    }
   ],
   "source": [
    "params = (soln.x[0], soln.x[1])\n",
    "max_ll = -1*nbd(params, a1, a2)\n",
    "print('shape:', soln.x[0], '\\nscale:', soln.x[1], '\\nMAX_LL:', max_ll)"
   ]
  },
  {
   "cell_type": "markdown",
   "id": "0925115f",
   "metadata": {},
   "source": [
    "### Question 3  Khakichinos Data Modeling with Covariates"
   ]
  },
  {
   "cell_type": "code",
   "execution_count": 17,
   "id": "66bb9d8b",
   "metadata": {},
   "outputs": [
    {
     "data": {
      "text/html": [
       "<div>\n",
       "<style scoped>\n",
       "    .dataframe tbody tr th:only-of-type {\n",
       "        vertical-align: middle;\n",
       "    }\n",
       "\n",
       "    .dataframe tbody tr th {\n",
       "        vertical-align: top;\n",
       "    }\n",
       "\n",
       "    .dataframe thead th {\n",
       "        text-align: right;\n",
       "    }\n",
       "</style>\n",
       "<table border=\"1\" class=\"dataframe\">\n",
       "  <thead>\n",
       "    <tr style=\"text-align: right;\">\n",
       "      <th></th>\n",
       "      <th>ID</th>\n",
       "      <th>NumberofVisits</th>\n",
       "      <th>LnInc</th>\n",
       "      <th>Sex</th>\n",
       "      <th>LnAge</th>\n",
       "      <th>HHSize</th>\n",
       "    </tr>\n",
       "  </thead>\n",
       "  <tbody>\n",
       "    <tr>\n",
       "      <th>2723</th>\n",
       "      <td>2724</td>\n",
       "      <td>0</td>\n",
       "      <td>9.528794</td>\n",
       "      <td>1</td>\n",
       "      <td>2.944439</td>\n",
       "      <td>2</td>\n",
       "    </tr>\n",
       "    <tr>\n",
       "      <th>2724</th>\n",
       "      <td>2725</td>\n",
       "      <td>0</td>\n",
       "      <td>11.379394</td>\n",
       "      <td>0</td>\n",
       "      <td>3.970292</td>\n",
       "      <td>2</td>\n",
       "    </tr>\n",
       "    <tr>\n",
       "      <th>2725</th>\n",
       "      <td>2726</td>\n",
       "      <td>0</td>\n",
       "      <td>11.191342</td>\n",
       "      <td>1</td>\n",
       "      <td>3.044522</td>\n",
       "      <td>3</td>\n",
       "    </tr>\n",
       "    <tr>\n",
       "      <th>2726</th>\n",
       "      <td>2727</td>\n",
       "      <td>0</td>\n",
       "      <td>10.532096</td>\n",
       "      <td>1</td>\n",
       "      <td>2.890372</td>\n",
       "      <td>4</td>\n",
       "    </tr>\n",
       "    <tr>\n",
       "      <th>2727</th>\n",
       "      <td>2728</td>\n",
       "      <td>0</td>\n",
       "      <td>11.736069</td>\n",
       "      <td>1</td>\n",
       "      <td>2.833213</td>\n",
       "      <td>3</td>\n",
       "    </tr>\n",
       "  </tbody>\n",
       "</table>\n",
       "</div>"
      ],
      "text/plain": [
       "        ID  NumberofVisits      LnInc  Sex     LnAge  HHSize\n",
       "2723  2724               0   9.528794    1  2.944439       2\n",
       "2724  2725               0  11.379394    0  3.970292       2\n",
       "2725  2726               0  11.191342    1  3.044522       3\n",
       "2726  2727               0  10.532096    1  2.890372       4\n",
       "2727  2728               0  11.736069    1  2.833213       3"
      ]
     },
     "execution_count": 17,
     "metadata": {},
     "output_type": "execute_result"
    }
   ],
   "source": [
    "khakichinos = pd.read_csv('khakichinos.csv')\n",
    "khakichinos.tail()"
   ]
  },
  {
   "cell_type": "code",
   "execution_count": 19,
   "id": "e95013e6",
   "metadata": {},
   "outputs": [
    {
     "data": {
      "text/html": [
       "<div>\n",
       "<style scoped>\n",
       "    .dataframe tbody tr th:only-of-type {\n",
       "        vertical-align: middle;\n",
       "    }\n",
       "\n",
       "    .dataframe tbody tr th {\n",
       "        vertical-align: top;\n",
       "    }\n",
       "\n",
       "    .dataframe thead th {\n",
       "        text-align: right;\n",
       "    }\n",
       "</style>\n",
       "<table border=\"1\" class=\"dataframe\">\n",
       "  <thead>\n",
       "    <tr style=\"text-align: right;\">\n",
       "      <th></th>\n",
       "      <th>ID</th>\n",
       "      <th>NumberofVisits</th>\n",
       "      <th>LnInc</th>\n",
       "      <th>Sex</th>\n",
       "      <th>LnAge</th>\n",
       "      <th>HHSize</th>\n",
       "    </tr>\n",
       "  </thead>\n",
       "  <tbody>\n",
       "    <tr>\n",
       "      <th>0</th>\n",
       "      <td>1</td>\n",
       "      <td>0</td>\n",
       "      <td>0.761947</td>\n",
       "      <td>0.752938</td>\n",
       "      <td>0.612645</td>\n",
       "      <td>-0.788124</td>\n",
       "    </tr>\n",
       "    <tr>\n",
       "      <th>1</th>\n",
       "      <td>2</td>\n",
       "      <td>5</td>\n",
       "      <td>-1.930956</td>\n",
       "      <td>0.752938</td>\n",
       "      <td>1.011624</td>\n",
       "      <td>-1.496993</td>\n",
       "    </tr>\n",
       "    <tr>\n",
       "      <th>2</th>\n",
       "      <td>3</td>\n",
       "      <td>0</td>\n",
       "      <td>0.264588</td>\n",
       "      <td>-1.328131</td>\n",
       "      <td>-0.638724</td>\n",
       "      <td>-0.788124</td>\n",
       "    </tr>\n",
       "    <tr>\n",
       "      <th>3</th>\n",
       "      <td>4</td>\n",
       "      <td>0</td>\n",
       "      <td>-0.014926</td>\n",
       "      <td>0.752938</td>\n",
       "      <td>0.798477</td>\n",
       "      <td>-0.079254</td>\n",
       "    </tr>\n",
       "    <tr>\n",
       "      <th>4</th>\n",
       "      <td>5</td>\n",
       "      <td>0</td>\n",
       "      <td>-0.014926</td>\n",
       "      <td>0.752938</td>\n",
       "      <td>-1.797214</td>\n",
       "      <td>-0.079254</td>\n",
       "    </tr>\n",
       "  </tbody>\n",
       "</table>\n",
       "</div>"
      ],
      "text/plain": [
       "   ID  NumberofVisits     LnInc       Sex     LnAge    HHSize\n",
       "0   1               0  0.761947  0.752938  0.612645 -0.788124\n",
       "1   2               5 -1.930956  0.752938  1.011624 -1.496993\n",
       "2   3               0  0.264588 -1.328131 -0.638724 -0.788124\n",
       "3   4               0 -0.014926  0.752938  0.798477 -0.079254\n",
       "4   5               0 -0.014926  0.752938 -1.797214 -0.079254"
      ]
     },
     "execution_count": 19,
     "metadata": {},
     "output_type": "execute_result"
    }
   ],
   "source": [
    "from sklearn.preprocessing import StandardScaler\n",
    "sc = StandardScaler()\n",
    "x = sc.fit_transform(khakichinos.drop(columns=['a1', 'ID']))\n",
    "khakichinos[khakichinos.drop(columns=['a1', 'ID']).columns] = x\n",
    "khakichinos.head()"
   ]
  },
  {
   "cell_type": "code",
   "execution_count": 111,
   "id": "a82c50b0",
   "metadata": {},
   "outputs": [],
   "source": [
    "a1 = np.array(khakichinos.loc[:,'NumberofVisits'])\n",
    "a2 = np.array(khakichinos.loc[:,'LnInc'])\n",
    "a3 = np.array(khakichinos.loc[:,'Sex'])\n",
    "a4 = np.array(khakichinos.loc[:,'LnAge'])\n",
    "a5 = np.array(khakichinos.loc[:,'HHSize'])"
   ]
  },
  {
   "cell_type": "code",
   "execution_count": 113,
   "id": "ffaaf76f",
   "metadata": {},
   "outputs": [
    {
     "name": "stderr",
     "output_type": "stream",
     "text": [
      "/var/folders/z4/v_l0j_d955xggmv5v8_n36640000gn/T/ipykernel_44863/2918586287.py:7: RuntimeWarning: overflow encountered in exp\n",
      "  lambda_i = float(lambda_0*np.exp(float(regr)))\n",
      "/var/folders/z4/v_l0j_d955xggmv5v8_n36640000gn/T/ipykernel_44863/2918586287.py:7: RuntimeWarning: overflow encountered in double_scalars\n",
      "  lambda_i = float(lambda_0*np.exp(float(regr)))\n"
     ]
    }
   ],
   "source": [
    "def Possion_Regression(params, a1, a2, a3, a4, a5):\n",
    "    lambda_0, b1, b2, b3, b4 = params\n",
    "    ll = []\n",
    "    for i in range(len(a1)):\n",
    "        k = a1[i]\n",
    "        regr = (b1*a2[i]+b2*a3[i]+b3*a4[i]+b4*a5[i])\n",
    "        lambda_i = float(lambda_0*np.exp(float(regr)))\n",
    "        ll.append(k*(np.log(lambda_0)+regr)-lambda_i-round(float(np.log(float(math.factorial(k)))), 3))\n",
    "    return -1*sum(ll)\n",
    "soln = minimize(\n",
    "    Possion_Regression,\n",
    "    method='SLSQP',\n",
    "    args = (a1, a2, a3, a4, a5),\n",
    "    x0 = np.array((0.1,0.1,0.1,0.1,0.1)),\n",
    "    tol=1e-10\n",
    ")"
   ]
  },
  {
   "cell_type": "code",
   "execution_count": 114,
   "id": "882a896b",
   "metadata": {},
   "outputs": [
    {
     "data": {
      "text/plain": [
       "[9848.96971560914,\n",
       "      fun: 6291.472631965174\n",
       "      jac: array([-0.00189209, -0.00189209, -0.00067139, -0.00189209, -0.00115967])\n",
       "  message: 'Optimization terminated successfully'\n",
       "     nfev: 126\n",
       "      nit: 16\n",
       "     njev: 16\n",
       "   status: 0\n",
       "  success: True\n",
       "        x: array([ 0.91550775,  0.05607705,  0.00204699,  0.2533736 , -0.05065456])]"
      ]
     },
     "execution_count": 114,
     "metadata": {},
     "output_type": "execute_result"
    }
   ],
   "source": [
    "params = (0.1,0.1,0.1,0.1,0.1)\n",
    "[Possion_Regression(params, a1, a2, a3, a4, a5),soln]"
   ]
  },
  {
   "cell_type": "code",
   "execution_count": 26,
   "id": "155e8cbf",
   "metadata": {},
   "outputs": [
    {
     "name": "stdout",
     "output_type": "stream",
     "text": [
      "lambda_0: 0.9155077489393663 \n",
      "beta1: 0.05607705109807718 \n",
      "beta2: 0.0020469868733725854 \n",
      "beta3: 0.253373597335255 \n",
      "beta4: -0.05065455573962687 \n",
      "MAX_LL: -6291.472631965174\n"
     ]
    }
   ],
   "source": [
    "params = (soln.x[0], soln.x[1], soln.x[2], soln.x[3], soln.x[4])\n",
    "max_ll = -1*Possion_Regression(params, a1, a2, a3, a4, a5)\n",
    "print('lambda_0:', soln.x[0], '\\nbeta1:', soln.x[1], '\\nbeta2:', soln.x[2], '\\nbeta3:', soln.x[3], '\\nbeta4:', soln.x[4], '\\nMAX_LL:', max_ll)"
   ]
  },
  {
   "cell_type": "markdown",
   "id": "12b12a45",
   "metadata": {},
   "source": [
    "### Question-4. NBD Regression "
   ]
  },
  {
   "cell_type": "code",
   "execution_count": 117,
   "id": "81276a2b",
   "metadata": {},
   "outputs": [
    {
     "name": "stderr",
     "output_type": "stream",
     "text": [
      "/var/folders/z4/v_l0j_d955xggmv5v8_n36640000gn/T/ipykernel_44863/1116047986.py:9: RuntimeWarning: divide by zero encountered in log\n",
      "  gam = np.log(math.gamma(shape+k))-np.log(float(math.gamma(shape)))-np.log(float(math.factorial(k)))\n",
      "/var/folders/z4/v_l0j_d955xggmv5v8_n36640000gn/T/ipykernel_44863/1116047986.py:9: RuntimeWarning: invalid value encountered in double_scalars\n",
      "  gam = np.log(math.gamma(shape+k))-np.log(float(math.gamma(shape)))-np.log(float(math.factorial(k)))\n",
      "/var/folders/z4/v_l0j_d955xggmv5v8_n36640000gn/T/ipykernel_44863/1116047986.py:8: RuntimeWarning: overflow encountered in exp\n",
      "  expo = np.exp(float(regr))\n",
      "/var/folders/z4/v_l0j_d955xggmv5v8_n36640000gn/T/ipykernel_44863/1116047986.py:9: RuntimeWarning: invalid value encountered in log\n",
      "  gam = np.log(math.gamma(shape+k))-np.log(float(math.gamma(shape)))-np.log(float(math.factorial(k)))\n",
      "/var/folders/z4/v_l0j_d955xggmv5v8_n36640000gn/T/ipykernel_44863/1116047986.py:10: RuntimeWarning: invalid value encountered in log\n",
      "  term1 = -1*(shape+k)*np.log(float(scale+expo))\n",
      "/var/folders/z4/v_l0j_d955xggmv5v8_n36640000gn/T/ipykernel_44863/1116047986.py:11: RuntimeWarning: invalid value encountered in log\n",
      "  term2 = shape*np.log(float(scale))+k*regr\n"
     ]
    }
   ],
   "source": [
    "def NLL_NBR(params, a1, a2, a3, a4, a5):\n",
    "    shape, scale, b1, b2, b3, b4 = params\n",
    "    ll = 0\n",
    "    prob = []\n",
    "    for i in range(len(a1)):\n",
    "        k = a1[i]\n",
    "        regr = (b1*a2[i]+b2*a3[i]+b3*a4[i]+b4*a5[i])\n",
    "        expo = np.exp(float(regr))\n",
    "        gam = np.log(math.gamma(shape+k))-np.log(float(math.gamma(shape)))-np.log(float(math.factorial(k)))\n",
    "        term1 = -1*(shape+k)*np.log(float(scale+expo))\n",
    "        term2 = shape*np.log(float(scale))+k*regr\n",
    "        ll += gam+term1+term2\n",
    "    return -1*ll\n",
    "soln = minimize(\n",
    "    NLL_NBR,\n",
    "    args = (a1, a2, a3, a4, a5),\n",
    "    method='SLSQP',\n",
    "    x0 = np.array((1,1,1,1,1,1)),\n",
    "    tol=1e-10\n",
    "    \n",
    ")"
   ]
  },
  {
   "cell_type": "code",
   "execution_count": 118,
   "id": "708b54b4",
   "metadata": {},
   "outputs": [
    {
     "data": {
      "text/plain": [
       "[2921.371991203894,\n",
       "      fun: 2888.96611373066\n",
       "      jac: array([ 1.06811523e-03,  6.40869141e-04,  2.74658203e-04, -3.05175781e-04,\n",
       "         2.74658203e-04,  6.10351562e-05])\n",
       "  message: 'Optimization terminated successfully'\n",
       "     nfev: 301\n",
       "      nit: 36\n",
       "     njev: 36\n",
       "   status: 0\n",
       "  success: True\n",
       "        x: array([ 0.1387515 ,  0.15400068,  0.0438726 , -0.00445615,  0.3886018 ,\n",
       "        -0.03430509])]"
      ]
     },
     "execution_count": 118,
     "metadata": {},
     "output_type": "execute_result"
    }
   ],
   "source": [
    "params = (0.1,0.1,0.1,0.1,0.1,0.1)\n",
    "[NLL_NBR(params, a1, a2, a3, a4, a5),soln]"
   ]
  },
  {
   "cell_type": "code",
   "execution_count": 31,
   "id": "3ee60c20",
   "metadata": {},
   "outputs": [
    {
     "name": "stdout",
     "output_type": "stream",
     "text": [
      "shape: 0.13875150075413273 \n",
      "scale: 0.15400067690092847 \n",
      "beta1: 0.0438725999452609 \n",
      "beta2: -0.004456152254205826 \n",
      "beta3: 0.3886018046447337 \n",
      "beta4: -0.03430508907817904 \n",
      "MAX_LL: -2888.96611373066\n"
     ]
    }
   ],
   "source": [
    "params = (soln.x[0], soln.x[1], soln.x[2], soln.x[3], soln.x[4], soln.x[5])\n",
    "max_ll = -1*NLL_NBR(params, a1, a2, a3, a4, a5)\n",
    "print('shape:', soln.x[0], '\\nscale:', soln.x[1], '\\nbeta1:', soln.x[2], '\\nbeta2:', soln.x[3], \n",
    "      '\\nbeta3:', soln.x[4], '\\nbeta4:', soln.x[5], '\\nMAX_LL:', max_ll)"
   ]
  },
  {
   "cell_type": "code",
   "execution_count": 43,
   "id": "2b2df153",
   "metadata": {},
   "outputs": [],
   "source": [
    "import os\n",
    "import math\n",
    "import pandas as pd\n",
    "import numpy as np\n",
    "import matplotlib.pyplot as plt\n",
    "from scipy.optimize import minimize, least_squares\n",
    "from scipy.stats import poisson\n",
    "from sklearn.preprocessing import MinMaxScaler"
   ]
  },
  {
   "cell_type": "markdown",
   "id": "622829b7",
   "metadata": {},
   "source": [
    "### Question1: Read books.csv and generate two new datasets"
   ]
  },
  {
   "cell_type": "code",
   "execution_count": 44,
   "id": "00f54761",
   "metadata": {},
   "outputs": [
    {
     "data": {
      "text/html": [
       "<div>\n",
       "<style scoped>\n",
       "    .dataframe tbody tr th:only-of-type {\n",
       "        vertical-align: middle;\n",
       "    }\n",
       "\n",
       "    .dataframe tbody tr th {\n",
       "        vertical-align: top;\n",
       "    }\n",
       "\n",
       "    .dataframe thead th {\n",
       "        text-align: right;\n",
       "    }\n",
       "</style>\n",
       "<table border=\"1\" class=\"dataframe\">\n",
       "  <thead>\n",
       "    <tr style=\"text-align: right;\">\n",
       "      <th></th>\n",
       "      <th>userid</th>\n",
       "      <th>education</th>\n",
       "      <th>region</th>\n",
       "      <th>hhsz</th>\n",
       "      <th>age</th>\n",
       "      <th>income</th>\n",
       "      <th>child</th>\n",
       "      <th>race</th>\n",
       "      <th>country</th>\n",
       "      <th>domain</th>\n",
       "      <th>qty</th>\n",
       "    </tr>\n",
       "  </thead>\n",
       "  <tbody>\n",
       "    <tr>\n",
       "      <th>0</th>\n",
       "      <td>11443031</td>\n",
       "      <td>4.0</td>\n",
       "      <td>1.0</td>\n",
       "      <td>2</td>\n",
       "      <td>11.0</td>\n",
       "      <td>4</td>\n",
       "      <td>1</td>\n",
       "      <td>1</td>\n",
       "      <td>0</td>\n",
       "      <td>amazon.com</td>\n",
       "      <td>1</td>\n",
       "    </tr>\n",
       "    <tr>\n",
       "      <th>1</th>\n",
       "      <td>11443031</td>\n",
       "      <td>4.0</td>\n",
       "      <td>1.0</td>\n",
       "      <td>2</td>\n",
       "      <td>11.0</td>\n",
       "      <td>4</td>\n",
       "      <td>1</td>\n",
       "      <td>1</td>\n",
       "      <td>0</td>\n",
       "      <td>amazon.com</td>\n",
       "      <td>1</td>\n",
       "    </tr>\n",
       "    <tr>\n",
       "      <th>2</th>\n",
       "      <td>11443031</td>\n",
       "      <td>4.0</td>\n",
       "      <td>1.0</td>\n",
       "      <td>2</td>\n",
       "      <td>11.0</td>\n",
       "      <td>4</td>\n",
       "      <td>1</td>\n",
       "      <td>1</td>\n",
       "      <td>0</td>\n",
       "      <td>amazon.com</td>\n",
       "      <td>1</td>\n",
       "    </tr>\n",
       "    <tr>\n",
       "      <th>3</th>\n",
       "      <td>11519009</td>\n",
       "      <td>NaN</td>\n",
       "      <td>2.0</td>\n",
       "      <td>3</td>\n",
       "      <td>5.0</td>\n",
       "      <td>3</td>\n",
       "      <td>1</td>\n",
       "      <td>2</td>\n",
       "      <td>0</td>\n",
       "      <td>amazon.com</td>\n",
       "      <td>1</td>\n",
       "    </tr>\n",
       "    <tr>\n",
       "      <th>4</th>\n",
       "      <td>11519009</td>\n",
       "      <td>NaN</td>\n",
       "      <td>2.0</td>\n",
       "      <td>3</td>\n",
       "      <td>5.0</td>\n",
       "      <td>3</td>\n",
       "      <td>1</td>\n",
       "      <td>2</td>\n",
       "      <td>0</td>\n",
       "      <td>amazon.com</td>\n",
       "      <td>1</td>\n",
       "    </tr>\n",
       "    <tr>\n",
       "      <th>...</th>\n",
       "      <td>...</td>\n",
       "      <td>...</td>\n",
       "      <td>...</td>\n",
       "      <td>...</td>\n",
       "      <td>...</td>\n",
       "      <td>...</td>\n",
       "      <td>...</td>\n",
       "      <td>...</td>\n",
       "      <td>...</td>\n",
       "      <td>...</td>\n",
       "      <td>...</td>\n",
       "    </tr>\n",
       "    <tr>\n",
       "      <th>40940</th>\n",
       "      <td>15557019</td>\n",
       "      <td>NaN</td>\n",
       "      <td>2.0</td>\n",
       "      <td>3</td>\n",
       "      <td>6.0</td>\n",
       "      <td>6</td>\n",
       "      <td>1</td>\n",
       "      <td>1</td>\n",
       "      <td>0</td>\n",
       "      <td>amazon.com</td>\n",
       "      <td>1</td>\n",
       "    </tr>\n",
       "    <tr>\n",
       "      <th>40941</th>\n",
       "      <td>15557019</td>\n",
       "      <td>NaN</td>\n",
       "      <td>2.0</td>\n",
       "      <td>3</td>\n",
       "      <td>6.0</td>\n",
       "      <td>6</td>\n",
       "      <td>1</td>\n",
       "      <td>1</td>\n",
       "      <td>0</td>\n",
       "      <td>amazon.com</td>\n",
       "      <td>1</td>\n",
       "    </tr>\n",
       "    <tr>\n",
       "      <th>40942</th>\n",
       "      <td>15557019</td>\n",
       "      <td>NaN</td>\n",
       "      <td>2.0</td>\n",
       "      <td>3</td>\n",
       "      <td>6.0</td>\n",
       "      <td>6</td>\n",
       "      <td>1</td>\n",
       "      <td>1</td>\n",
       "      <td>0</td>\n",
       "      <td>amazon.com</td>\n",
       "      <td>1</td>\n",
       "    </tr>\n",
       "    <tr>\n",
       "      <th>40943</th>\n",
       "      <td>15557019</td>\n",
       "      <td>NaN</td>\n",
       "      <td>2.0</td>\n",
       "      <td>3</td>\n",
       "      <td>6.0</td>\n",
       "      <td>6</td>\n",
       "      <td>1</td>\n",
       "      <td>1</td>\n",
       "      <td>0</td>\n",
       "      <td>amazon.com</td>\n",
       "      <td>1</td>\n",
       "    </tr>\n",
       "    <tr>\n",
       "      <th>40944</th>\n",
       "      <td>15562604</td>\n",
       "      <td>NaN</td>\n",
       "      <td>3.0</td>\n",
       "      <td>2</td>\n",
       "      <td>11.0</td>\n",
       "      <td>6</td>\n",
       "      <td>0</td>\n",
       "      <td>1</td>\n",
       "      <td>0</td>\n",
       "      <td>amazon.com</td>\n",
       "      <td>1</td>\n",
       "    </tr>\n",
       "  </tbody>\n",
       "</table>\n",
       "<p>40945 rows × 11 columns</p>\n",
       "</div>"
      ],
      "text/plain": [
       "         userid  education  region  hhsz   age  income  child  race  country  \\\n",
       "0      11443031        4.0     1.0     2  11.0       4      1     1        0   \n",
       "1      11443031        4.0     1.0     2  11.0       4      1     1        0   \n",
       "2      11443031        4.0     1.0     2  11.0       4      1     1        0   \n",
       "3      11519009        NaN     2.0     3   5.0       3      1     2        0   \n",
       "4      11519009        NaN     2.0     3   5.0       3      1     2        0   \n",
       "...         ...        ...     ...   ...   ...     ...    ...   ...      ...   \n",
       "40940  15557019        NaN     2.0     3   6.0       6      1     1        0   \n",
       "40941  15557019        NaN     2.0     3   6.0       6      1     1        0   \n",
       "40942  15557019        NaN     2.0     3   6.0       6      1     1        0   \n",
       "40943  15557019        NaN     2.0     3   6.0       6      1     1        0   \n",
       "40944  15562604        NaN     3.0     2  11.0       6      0     1        0   \n",
       "\n",
       "           domain  qty  \n",
       "0      amazon.com    1  \n",
       "1      amazon.com    1  \n",
       "2      amazon.com    1  \n",
       "3      amazon.com    1  \n",
       "4      amazon.com    1  \n",
       "...           ...  ...  \n",
       "40940  amazon.com    1  \n",
       "40941  amazon.com    1  \n",
       "40942  amazon.com    1  \n",
       "40943  amazon.com    1  \n",
       "40944  amazon.com    1  \n",
       "\n",
       "[40945 rows x 11 columns]"
      ]
     },
     "execution_count": 44,
     "metadata": {},
     "output_type": "execute_result"
    }
   ],
   "source": [
    "df=pd.read_csv('books.csv')\n",
    "df = df.drop(['date','product','price'],axis=1)\n",
    "df"
   ]
  },
  {
   "cell_type": "code",
   "execution_count": 45,
   "id": "c8d0aae5",
   "metadata": {},
   "outputs": [
    {
     "data": {
      "text/plain": [
       "(9451, 534, 7639, 1812)"
      ]
     },
     "execution_count": 45,
     "metadata": {},
     "output_type": "execute_result"
    }
   ],
   "source": [
    "#total number of people in the dataset\n",
    "total_people = len(list(df.loc[:,'userid'].unique()))\n",
    "#total number of people who purchased from b&n\n",
    "bnn_people = len(df[df['domain']=='barnesandnoble.com'].loc[:,'userid'].unique()) \n",
    "# total number of people who purchased from amazon\n",
    "amazon_people = len(df[df['domain']=='amazon.com'].loc[:,'userid'].unique()) \n",
    "#total number of people who purchased from both amazon and b&n\n",
    "both_people = bnn_people+amazon_people-total_people \n",
    "#total number of people who purchased only from amazon\n",
    "only_az = amazon_people-both_people \n",
    "total_people, both_people, only_az, bnn_people"
   ]
  },
  {
   "cell_type": "code",
   "execution_count": 46,
   "id": "f8f93a13",
   "metadata": {},
   "outputs": [
    {
     "name": "stderr",
     "output_type": "stream",
     "text": [
      "/var/folders/z4/v_l0j_d955xggmv5v8_n36640000gn/T/ipykernel_44863/2896219706.py:8: FutureWarning: The frame.append method is deprecated and will be removed from pandas in a future version. Use pandas.concat instead.\n",
      "  books01 = books01.append({'Num_purchases': 0, 'Num_people': only_az}, ignore_index = True)\n"
     ]
    }
   ],
   "source": [
    "new_books = df[df['domain']=='barnesandnoble.com'].drop(columns=['domain'])\n",
    "temp = pd.DataFrame(new_books.groupby(['userid'])['qty'].count())\n",
    "temp.rename(columns={'qty': 'Num_purchases'}, inplace=True)\n",
    "books01 = pd.DataFrame(temp.groupby('Num_purchases')['Num_purchases'].count())\n",
    "books01.rename(columns={'Num_purchases': 'Num_people'}, inplace=True)\n",
    "books01.reset_index(inplace=True)\n",
    "#adding people who only purchased from amazon with Num_purchases from b&n as 0\n",
    "books01 = books01.append({'Num_purchases': 0, 'Num_people': only_az}, ignore_index = True) \n",
    "books01.sort_values('Num_purchases', inplace=True)\n",
    "books01.reset_index(inplace=True, drop=True)"
   ]
  },
  {
   "cell_type": "code",
   "execution_count": 119,
   "id": "95fde49e",
   "metadata": {},
   "outputs": [
    {
     "data": {
      "text/html": [
       "<div>\n",
       "<style scoped>\n",
       "    .dataframe tbody tr th:only-of-type {\n",
       "        vertical-align: middle;\n",
       "    }\n",
       "\n",
       "    .dataframe tbody tr th {\n",
       "        vertical-align: top;\n",
       "    }\n",
       "\n",
       "    .dataframe thead th {\n",
       "        text-align: right;\n",
       "    }\n",
       "</style>\n",
       "<table border=\"1\" class=\"dataframe\">\n",
       "  <thead>\n",
       "    <tr style=\"text-align: right;\">\n",
       "      <th></th>\n",
       "      <th>Num_purchases</th>\n",
       "      <th>Num_people</th>\n",
       "    </tr>\n",
       "  </thead>\n",
       "  <tbody>\n",
       "    <tr>\n",
       "      <th>0</th>\n",
       "      <td>0</td>\n",
       "      <td>7639</td>\n",
       "    </tr>\n",
       "    <tr>\n",
       "      <th>1</th>\n",
       "      <td>1</td>\n",
       "      <td>790</td>\n",
       "    </tr>\n",
       "    <tr>\n",
       "      <th>2</th>\n",
       "      <td>2</td>\n",
       "      <td>354</td>\n",
       "    </tr>\n",
       "    <tr>\n",
       "      <th>3</th>\n",
       "      <td>3</td>\n",
       "      <td>174</td>\n",
       "    </tr>\n",
       "    <tr>\n",
       "      <th>4</th>\n",
       "      <td>4</td>\n",
       "      <td>121</td>\n",
       "    </tr>\n",
       "  </tbody>\n",
       "</table>\n",
       "</div>"
      ],
      "text/plain": [
       "   Num_purchases  Num_people\n",
       "0              0        7639\n",
       "1              1         790\n",
       "2              2         354\n",
       "3              3         174\n",
       "4              4         121"
      ]
     },
     "execution_count": 119,
     "metadata": {},
     "output_type": "execute_result"
    }
   ],
   "source": [
    "books01.head()"
   ]
  },
  {
   "cell_type": "code",
   "execution_count": 120,
   "id": "749b78ca",
   "metadata": {},
   "outputs": [
    {
     "data": {
      "text/html": [
       "<div>\n",
       "<style scoped>\n",
       "    .dataframe tbody tr th:only-of-type {\n",
       "        vertical-align: middle;\n",
       "    }\n",
       "\n",
       "    .dataframe tbody tr th {\n",
       "        vertical-align: top;\n",
       "    }\n",
       "\n",
       "    .dataframe thead th {\n",
       "        text-align: right;\n",
       "    }\n",
       "</style>\n",
       "<table border=\"1\" class=\"dataframe\">\n",
       "  <thead>\n",
       "    <tr style=\"text-align: right;\">\n",
       "      <th></th>\n",
       "      <th>Num_purchases</th>\n",
       "      <th>Num_people</th>\n",
       "    </tr>\n",
       "  </thead>\n",
       "  <tbody>\n",
       "    <tr>\n",
       "      <th>43</th>\n",
       "      <td>56</td>\n",
       "      <td>1</td>\n",
       "    </tr>\n",
       "    <tr>\n",
       "      <th>44</th>\n",
       "      <td>58</td>\n",
       "      <td>1</td>\n",
       "    </tr>\n",
       "    <tr>\n",
       "      <th>45</th>\n",
       "      <td>63</td>\n",
       "      <td>1</td>\n",
       "    </tr>\n",
       "    <tr>\n",
       "      <th>46</th>\n",
       "      <td>86</td>\n",
       "      <td>1</td>\n",
       "    </tr>\n",
       "    <tr>\n",
       "      <th>47</th>\n",
       "      <td>111</td>\n",
       "      <td>1</td>\n",
       "    </tr>\n",
       "  </tbody>\n",
       "</table>\n",
       "</div>"
      ],
      "text/plain": [
       "    Num_purchases  Num_people\n",
       "43             56           1\n",
       "44             58           1\n",
       "45             63           1\n",
       "46             86           1\n",
       "47            111           1"
      ]
     },
     "execution_count": 120,
     "metadata": {},
     "output_type": "execute_result"
    }
   ],
   "source": [
    "books01.tail()"
   ]
  },
  {
   "cell_type": "code",
   "execution_count": 48,
   "id": "877a724e",
   "metadata": {},
   "outputs": [],
   "source": [
    "books01.to_csv('books01.csv', index=False)"
   ]
  },
  {
   "cell_type": "code",
   "execution_count": 49,
   "id": "8c93a36a",
   "metadata": {},
   "outputs": [
    {
     "name": "stderr",
     "output_type": "stream",
     "text": [
      "/var/folders/z4/v_l0j_d955xggmv5v8_n36640000gn/T/ipykernel_44863/3202827969.py:5: FutureWarning: Indexing with multiple keys (implicitly converted to a tuple of keys) will be deprecated, use a list instead.\n",
      "  covariates = new_books.groupby('userid')['education', 'region', 'hhsz', 'age', 'income', 'child', 'race', 'country'].mean()\n"
     ]
    }
   ],
   "source": [
    "bnn_books = df[df['domain']=='barnesandnoble.com'].drop(columns = ['domain'])\n",
    "bnn_books.reset_index(inplace=True, drop=True)\n",
    "y = pd.DataFrame(bnn_books.groupby('userid')['qty'].count())\n",
    "y.rename(columns={'qty': 'Num_purchases'}, inplace=True)\n",
    "covariates = new_books.groupby('userid')['education', 'a8', 'a7', 'a6', 'a5', 'a4', 'a3', 'a2'].mean()\n",
    "bnn_books = pd.concat([covariates,y], axis=1).copy()\n",
    "bnn_books.reset_index(inplace=True, drop=True)"
   ]
  },
  {
   "cell_type": "code",
   "execution_count": 50,
   "id": "6ec85172",
   "metadata": {},
   "outputs": [],
   "source": [
    "az_users = []\n",
    "covars_az_ls = []\n",
    "total_people = list(df.loc[:,'userid'].unique())\n",
    "for i in total_people:\n",
    "    if df[df['userid'] == i]['domain'].nunique() == 1:\n",
    "        if df[df['userid'] == i]['domain'].unique()[0] == 'amazon.com':\n",
    "            az_users.append(i)"
   ]
  },
  {
   "cell_type": "code",
   "execution_count": 51,
   "id": "d0b79a79",
   "metadata": {},
   "outputs": [],
   "source": [
    "for i in az_users:\n",
    "    covars_az_ls.append(list(df[df['userid'] == i].iloc[0,1:-2]))\n",
    "    \n",
    "az_books = pd.DataFrame(covars_az_ls) # All users who bought just from amazon\n",
    "num_purchases_az = list(np.zeros(len(covars_az_ls), dtype=int))\n",
    "#assigning them values 0 for Num_purchases because they did not buy from barnes and nobles\n",
    "az_books['Num_purchases'] = num_purchases_az \n",
    "az_books.rename(columns = {0:'education', 1:'a8', 2:'a7',\n",
    "                           3:'a6', 4:'a5', 5:'a4', 6:'a3',\n",
    "                           7:'a2'}, inplace=True)   "
   ]
  },
  {
   "cell_type": "code",
   "execution_count": 52,
   "id": "dbdf7b92",
   "metadata": {},
   "outputs": [
    {
     "data": {
      "text/html": [
       "<div>\n",
       "<style scoped>\n",
       "    .dataframe tbody tr th:only-of-type {\n",
       "        vertical-align: middle;\n",
       "    }\n",
       "\n",
       "    .dataframe tbody tr th {\n",
       "        vertical-align: top;\n",
       "    }\n",
       "\n",
       "    .dataframe thead th {\n",
       "        text-align: right;\n",
       "    }\n",
       "</style>\n",
       "<table border=\"1\" class=\"dataframe\">\n",
       "  <thead>\n",
       "    <tr style=\"text-align: right;\">\n",
       "      <th></th>\n",
       "      <th>education</th>\n",
       "      <th>region</th>\n",
       "      <th>hhsz</th>\n",
       "      <th>age</th>\n",
       "      <th>income</th>\n",
       "      <th>child</th>\n",
       "      <th>race</th>\n",
       "      <th>country</th>\n",
       "      <th>Num_purchases</th>\n",
       "    </tr>\n",
       "  </thead>\n",
       "  <tbody>\n",
       "    <tr>\n",
       "      <th>0</th>\n",
       "      <td>5.0</td>\n",
       "      <td>1.0</td>\n",
       "      <td>2.0</td>\n",
       "      <td>11.0</td>\n",
       "      <td>7.0</td>\n",
       "      <td>0.0</td>\n",
       "      <td>1.0</td>\n",
       "      <td>0.0</td>\n",
       "      <td>1</td>\n",
       "    </tr>\n",
       "    <tr>\n",
       "      <th>1</th>\n",
       "      <td>2.0</td>\n",
       "      <td>2.0</td>\n",
       "      <td>2.0</td>\n",
       "      <td>8.0</td>\n",
       "      <td>4.0</td>\n",
       "      <td>0.0</td>\n",
       "      <td>1.0</td>\n",
       "      <td>0.0</td>\n",
       "      <td>1</td>\n",
       "    </tr>\n",
       "    <tr>\n",
       "      <th>2</th>\n",
       "      <td>4.0</td>\n",
       "      <td>3.0</td>\n",
       "      <td>5.0</td>\n",
       "      <td>10.0</td>\n",
       "      <td>3.0</td>\n",
       "      <td>1.0</td>\n",
       "      <td>1.0</td>\n",
       "      <td>0.0</td>\n",
       "      <td>1</td>\n",
       "    </tr>\n",
       "    <tr>\n",
       "      <th>3</th>\n",
       "      <td>NaN</td>\n",
       "      <td>4.0</td>\n",
       "      <td>2.0</td>\n",
       "      <td>10.0</td>\n",
       "      <td>5.0</td>\n",
       "      <td>1.0</td>\n",
       "      <td>1.0</td>\n",
       "      <td>0.0</td>\n",
       "      <td>2</td>\n",
       "    </tr>\n",
       "    <tr>\n",
       "      <th>4</th>\n",
       "      <td>NaN</td>\n",
       "      <td>1.0</td>\n",
       "      <td>3.0</td>\n",
       "      <td>8.0</td>\n",
       "      <td>7.0</td>\n",
       "      <td>1.0</td>\n",
       "      <td>1.0</td>\n",
       "      <td>0.0</td>\n",
       "      <td>5</td>\n",
       "    </tr>\n",
       "    <tr>\n",
       "      <th>...</th>\n",
       "      <td>...</td>\n",
       "      <td>...</td>\n",
       "      <td>...</td>\n",
       "      <td>...</td>\n",
       "      <td>...</td>\n",
       "      <td>...</td>\n",
       "      <td>...</td>\n",
       "      <td>...</td>\n",
       "      <td>...</td>\n",
       "    </tr>\n",
       "    <tr>\n",
       "      <th>9446</th>\n",
       "      <td>NaN</td>\n",
       "      <td>3.0</td>\n",
       "      <td>6.0</td>\n",
       "      <td>6.0</td>\n",
       "      <td>5.0</td>\n",
       "      <td>1.0</td>\n",
       "      <td>1.0</td>\n",
       "      <td>0.0</td>\n",
       "      <td>0</td>\n",
       "    </tr>\n",
       "    <tr>\n",
       "      <th>9447</th>\n",
       "      <td>NaN</td>\n",
       "      <td>3.0</td>\n",
       "      <td>3.0</td>\n",
       "      <td>10.0</td>\n",
       "      <td>4.0</td>\n",
       "      <td>1.0</td>\n",
       "      <td>1.0</td>\n",
       "      <td>1.0</td>\n",
       "      <td>0</td>\n",
       "    </tr>\n",
       "    <tr>\n",
       "      <th>9448</th>\n",
       "      <td>1.0</td>\n",
       "      <td>2.0</td>\n",
       "      <td>2.0</td>\n",
       "      <td>8.0</td>\n",
       "      <td>6.0</td>\n",
       "      <td>0.0</td>\n",
       "      <td>1.0</td>\n",
       "      <td>0.0</td>\n",
       "      <td>0</td>\n",
       "    </tr>\n",
       "    <tr>\n",
       "      <th>9449</th>\n",
       "      <td>NaN</td>\n",
       "      <td>3.0</td>\n",
       "      <td>2.0</td>\n",
       "      <td>3.0</td>\n",
       "      <td>2.0</td>\n",
       "      <td>1.0</td>\n",
       "      <td>1.0</td>\n",
       "      <td>0.0</td>\n",
       "      <td>0</td>\n",
       "    </tr>\n",
       "    <tr>\n",
       "      <th>9450</th>\n",
       "      <td>NaN</td>\n",
       "      <td>3.0</td>\n",
       "      <td>2.0</td>\n",
       "      <td>6.0</td>\n",
       "      <td>1.0</td>\n",
       "      <td>0.0</td>\n",
       "      <td>1.0</td>\n",
       "      <td>0.0</td>\n",
       "      <td>0</td>\n",
       "    </tr>\n",
       "  </tbody>\n",
       "</table>\n",
       "<p>9451 rows × 9 columns</p>\n",
       "</div>"
      ],
      "text/plain": [
       "      education  region  hhsz   age  income  child  race  country  \\\n",
       "0           5.0     1.0   2.0  11.0     7.0    0.0   1.0      0.0   \n",
       "1           2.0     2.0   2.0   8.0     4.0    0.0   1.0      0.0   \n",
       "2           4.0     3.0   5.0  10.0     3.0    1.0   1.0      0.0   \n",
       "3           NaN     4.0   2.0  10.0     5.0    1.0   1.0      0.0   \n",
       "4           NaN     1.0   3.0   8.0     7.0    1.0   1.0      0.0   \n",
       "...         ...     ...   ...   ...     ...    ...   ...      ...   \n",
       "9446        NaN     3.0   6.0   6.0     5.0    1.0   1.0      0.0   \n",
       "9447        NaN     3.0   3.0  10.0     4.0    1.0   1.0      1.0   \n",
       "9448        1.0     2.0   2.0   8.0     6.0    0.0   1.0      0.0   \n",
       "9449        NaN     3.0   2.0   3.0     2.0    1.0   1.0      0.0   \n",
       "9450        NaN     3.0   2.0   6.0     1.0    0.0   1.0      0.0   \n",
       "\n",
       "      Num_purchases  \n",
       "0                 1  \n",
       "1                 1  \n",
       "2                 1  \n",
       "3                 2  \n",
       "4                 5  \n",
       "...             ...  \n",
       "9446              0  \n",
       "9447              0  \n",
       "9448              0  \n",
       "9449              0  \n",
       "9450              0  \n",
       "\n",
       "[9451 rows x 9 columns]"
      ]
     },
     "execution_count": 52,
     "metadata": {},
     "output_type": "execute_result"
    }
   ],
   "source": [
    "books02 = pd.concat([bnn_books, az_books], axis=0)\n",
    "books02.reset_index(inplace=True, drop=True)\n",
    "# books02=books02.drop([8,9,10])\n",
    "books02"
   ]
  },
  {
   "cell_type": "code",
   "execution_count": 53,
   "id": "c05f3838",
   "metadata": {},
   "outputs": [],
   "source": [
    "books02.to_csv('books02.csv', index=False)"
   ]
  },
  {
   "cell_type": "code",
   "execution_count": 122,
   "id": "415e51be",
   "metadata": {},
   "outputs": [
    {
     "data": {
      "text/html": [
       "<div>\n",
       "<style scoped>\n",
       "    .dataframe tbody tr th:only-of-type {\n",
       "        vertical-align: middle;\n",
       "    }\n",
       "\n",
       "    .dataframe tbody tr th {\n",
       "        vertical-align: top;\n",
       "    }\n",
       "\n",
       "    .dataframe thead th {\n",
       "        text-align: right;\n",
       "    }\n",
       "</style>\n",
       "<table border=\"1\" class=\"dataframe\">\n",
       "  <thead>\n",
       "    <tr style=\"text-align: right;\">\n",
       "      <th></th>\n",
       "      <th>Num_purchases</th>\n",
       "      <th>Num_people</th>\n",
       "    </tr>\n",
       "  </thead>\n",
       "  <tbody>\n",
       "    <tr>\n",
       "      <th>0</th>\n",
       "      <td>0</td>\n",
       "      <td>7639</td>\n",
       "    </tr>\n",
       "    <tr>\n",
       "      <th>1</th>\n",
       "      <td>1</td>\n",
       "      <td>790</td>\n",
       "    </tr>\n",
       "    <tr>\n",
       "      <th>2</th>\n",
       "      <td>2</td>\n",
       "      <td>354</td>\n",
       "    </tr>\n",
       "    <tr>\n",
       "      <th>3</th>\n",
       "      <td>3</td>\n",
       "      <td>174</td>\n",
       "    </tr>\n",
       "    <tr>\n",
       "      <th>4</th>\n",
       "      <td>4</td>\n",
       "      <td>121</td>\n",
       "    </tr>\n",
       "  </tbody>\n",
       "</table>\n",
       "</div>"
      ],
      "text/plain": [
       "   Num_purchases  Num_people\n",
       "0              0        7639\n",
       "1              1         790\n",
       "2              2         354\n",
       "3              3         174\n",
       "4              4         121"
      ]
     },
     "execution_count": 122,
     "metadata": {},
     "output_type": "execute_result"
    }
   ],
   "source": [
    "books01 = pd.read_csv('books01.csv')\n",
    "books01.head()"
   ]
  },
  {
   "cell_type": "markdown",
   "id": "653fa2ef",
   "metadata": {},
   "source": [
    "### Question-2"
   ]
  },
  {
   "cell_type": "code",
   "execution_count": 61,
   "id": "aa2f56bb",
   "metadata": {},
   "outputs": [
    {
     "name": "stdout",
     "output_type": "stream",
     "text": [
      "Lambda 0.7043698792467571\n",
      "Log likelihood [-17773.13492767]\n"
     ]
    },
    {
     "name": "stderr",
     "output_type": "stream",
     "text": [
      "/Users/noelfranklin/opt/anaconda3/lib/python3.9/site-packages/scipy/optimize/optimize.py:282: RuntimeWarning: Values in x were outside bounds during a minimize step, clipping to bounds\n",
      "  warnings.warn(\"Values in x were outside bounds during a \"\n",
      "/var/folders/z4/v_l0j_d955xggmv5v8_n36640000gn/T/ipykernel_44863/2459367178.py:5: RuntimeWarning: divide by zero encountered in log\n",
      "  ll += people_exposed[i]*np.log(prob)\n"
     ]
    }
   ],
   "source": [
    "b = np.array(books01[['Num_purchases']])\n",
    "a = np.array(books01[['Num_people']])\n",
    "lmbda = 0\n",
    "soln = minimize(\n",
    "    poisson_model,\n",
    "    args = (a, b),\n",
    "    x0 = np.array((2.0)),\n",
    "    bounds=[(1e-6,None)],\n",
    "    tol=1e-10,\n",
    "    options={'ftol' : 1e-8},\n",
    ")\n",
    "lmbda = soln.x[0]\n",
    "poisson_pd = 0\n",
    "for i in range(len(a)):\n",
    "    poisson_pd += a[i]*np.log(poisson.pmf(b[i],lmbda))\n",
    "print(\"Lambda {}\".format(lmbda))\n",
    "print(\"Log likelihood {}\".format(poisson_pd))"
   ]
  },
  {
   "cell_type": "markdown",
   "id": "45b50719",
   "metadata": {},
   "source": [
    "### Question-3"
   ]
  },
  {
   "cell_type": "code",
   "execution_count": 62,
   "id": "e7aab3a5",
   "metadata": {},
   "outputs": [],
   "source": [
    "books02 = pd.read_csv('books02.csv')\n",
    "books02_trans = pd.DataFrame(books02.groupby('Num_purchases')['Num_purchases'].count())\n",
    "books02_trans.rename(columns={'Num_purchases': 'Num_people'}, inplace=True)\n",
    "books02_trans.reset_index(inplace=True)"
   ]
  },
  {
   "cell_type": "code",
   "execution_count": 63,
   "id": "895a4115",
   "metadata": {},
   "outputs": [
    {
     "data": {
      "text/plain": [
       "0    7639\n",
       "1     790\n",
       "2     354\n",
       "3     174\n",
       "4     121\n",
       "Name: Num_people, dtype: int64"
      ]
     },
     "execution_count": 63,
     "metadata": {},
     "output_type": "execute_result"
    }
   ],
   "source": [
    "num_people02 = books02_trans.loc[:,'Num_people']\n",
    "num_purchases02 = books02_trans.loc[:,'Num_purchases']\n",
    "num_people02.head()"
   ]
  },
  {
   "cell_type": "code",
   "execution_count": 64,
   "id": "3f717911",
   "metadata": {},
   "outputs": [
    {
     "name": "stdout",
     "output_type": "stream",
     "text": [
      "Lambda 0.7043698792467571\n",
      "Log likelihood -17773.134927673065\n"
     ]
    },
    {
     "name": "stderr",
     "output_type": "stream",
     "text": [
      "/Users/noelfranklin/opt/anaconda3/lib/python3.9/site-packages/scipy/optimize/optimize.py:282: RuntimeWarning: Values in x were outside bounds during a minimize step, clipping to bounds\n",
      "  warnings.warn(\"Values in x were outside bounds during a \"\n",
      "/var/folders/z4/v_l0j_d955xggmv5v8_n36640000gn/T/ipykernel_44863/2459367178.py:5: RuntimeWarning: divide by zero encountered in log\n",
      "  ll += people_exposed[i]*np.log(prob)\n"
     ]
    }
   ],
   "source": [
    "lmbda = 0\n",
    "soln = minimize(\n",
    "    poisson_model,\n",
    "    method='SLSQP',\n",
    "    args = (num_people02, num_purchases02),\n",
    "    x0 = np.array((2.0)),\n",
    "    bounds=[(1e-6,None)],\n",
    "    tol=1e-10,\n",
    "    options={'ftol' : 1e-8},\n",
    ")\n",
    "lmbda = soln.x[0]\n",
    "poisson_pd = 0\n",
    "for i in range(len(num_people02)):\n",
    "    poisson_pd += num_people02[i]*np.log(poisson.pmf(num_purchases02[i],lmbda))\n",
    "print(\"Lambda {}\".format(lmbda))\n",
    "print(\"Log likelihood {}\".format(poisson_pd))"
   ]
  },
  {
   "cell_type": "markdown",
   "id": "78696769",
   "metadata": {},
   "source": [
    "### Question-4 "
   ]
  },
  {
   "cell_type": "code",
   "execution_count": 127,
   "id": "8f6b63fa",
   "metadata": {},
   "outputs": [
    {
     "name": "stderr",
     "output_type": "stream",
     "text": [
      "/Users/noelfranklin/opt/anaconda3/lib/python3.9/site-packages/scipy/optimize/optimize.py:282: RuntimeWarning: Values in x were outside bounds during a minimize step, clipping to bounds\n",
      "  warnings.warn(\"Values in x were outside bounds during a \"\n",
      "/var/folders/z4/v_l0j_d955xggmv5v8_n36640000gn/T/ipykernel_44863/3380229210.py:13: RuntimeWarning: divide by zero encountered in log\n",
      "  ll += a[i]*np.log(prob[i])\n"
     ]
    },
    {
     "data": {
      "text/plain": [
       "     fun: array([8233.00000363])\n",
       "     jac: array([-0.00634766, -0.00231934])\n",
       " message: 'Optimization terminated successfully'\n",
       "    nfev: 235\n",
       "     nit: 63\n",
       "    njev: 59\n",
       "  status: 0\n",
       " success: True\n",
       "       x: array([0.10407733, 0.15238332])"
      ]
     },
     "execution_count": 127,
     "metadata": {},
     "output_type": "execute_result"
    }
   ],
   "source": [
    "b = np.array(books01[['Num_purchases']])\n",
    "a = np.array(books01[['Num_people']])\n",
    "def nbd(params, a, b):\n",
    "    shape, scale = params\n",
    "    ll = 0\n",
    "    prob = []\n",
    "    for i in range(len(b)):\n",
    "        k = b[i]\n",
    "        if i == 0:\n",
    "            prob.append((scale/(scale+1))**shape)\n",
    "        else:\n",
    "            prob.append(((shape+k-1)/(k*(scale+1)))*prob[i-1])\n",
    "        ll += a[i]*np.log(prob[i])\n",
    "    return -1*ll\n",
    "soln = minimize(\n",
    "    nbd,\n",
    "    method='SLSQP',\n",
    "    args = (a, b),\n",
    "    x0 = np.array((10, 10)),\n",
    "    bounds=[(0.000000001, None), (0.000000001, None)],\n",
    "    tol=1e-10,\n",
    "    options={'ftol' : 1e-8},\n",
    ")\n",
    "soln"
   ]
  },
  {
   "cell_type": "code",
   "execution_count": 129,
   "id": "038ed177",
   "metadata": {},
   "outputs": [
    {
     "name": "stdout",
     "output_type": "stream",
     "text": [
      "shape: 0.10407732707669293 \n",
      "scale: 0.15238332478696814 \n",
      "MAX_LL: [-8233.00000363]\n"
     ]
    }
   ],
   "source": [
    "params = (soln.x[0], soln.x[1])\n",
    "max_ll = -1*NLL_nbd(params, a, b)\n",
    "print('shape:', soln.x[0], '\\nscale:', soln.x[1], '\\nMAX_LL:', max_ll)"
   ]
  },
  {
   "cell_type": "markdown",
   "id": "aee39d2d",
   "metadata": {},
   "source": [
    "### Question-5"
   ]
  },
  {
   "cell_type": "code",
   "execution_count": 130,
   "id": "abfc6276",
   "metadata": {},
   "outputs": [
    {
     "name": "stderr",
     "output_type": "stream",
     "text": [
      "/var/folders/z4/v_l0j_d955xggmv5v8_n36640000gn/T/ipykernel_44863/299203914.py:11: RuntimeWarning: divide by zero encountered in log\n",
      "  ll += people_exposed[i]*np.log(prob[i])\n"
     ]
    },
    {
     "data": {
      "text/plain": [
       "     fun: 8233.000003626761\n",
       "     jac: array([0.00024414, 0.00024414])\n",
       " message: 'Optimization terminated successfully'\n",
       "    nfev: 134\n",
       "     nit: 37\n",
       "    njev: 34\n",
       "  status: 0\n",
       " success: True\n",
       "       x: array([0.10407744, 0.15238355])"
      ]
     },
     "execution_count": 130,
     "metadata": {},
     "output_type": "execute_result"
    }
   ],
   "source": [
    "soln = minimize(\n",
    "    NLL_nbd,\n",
    "    method='SLSQP',\n",
    "    args = (num_people02, num_purchases02),\n",
    "    x0 = np.array((1, 10)),\n",
    "    bounds=[(1e-36, None), (1e-36, None)],\n",
    "    tol=1e-10,\n",
    "    options={'ftol' : 1e-8},\n",
    ")\n",
    "soln"
   ]
  },
  {
   "cell_type": "code",
   "execution_count": 131,
   "id": "be7532f9",
   "metadata": {},
   "outputs": [
    {
     "name": "stdout",
     "output_type": "stream",
     "text": [
      "shape: 0.10407743709415807 \n",
      "scale: 0.15238354884015795 \n",
      "MAX_LL: -8233.000003626761\n"
     ]
    }
   ],
   "source": [
    "params = (soln.x[0], soln.x[1])\n",
    "max_ll = -1*NLL_nbd(params, num_people02, num_purchases02)\n",
    "print('shape:', soln.x[0], '\\nscale:', soln.x[1], '\\nMAX_LL:', max_ll)"
   ]
  },
  {
   "cell_type": "markdown",
   "id": "a5b44f05",
   "metadata": {},
   "source": [
    "### Question-6 "
   ]
  },
  {
   "cell_type": "code",
   "execution_count": 132,
   "id": "bf407c84",
   "metadata": {},
   "outputs": [
    {
     "name": "stdout",
     "output_type": "stream",
     "text": [
      "Reach 30.223547117929574\n",
      "Average Frequency  4.844356117340861\n",
      "GRPS 146.4136253684819\n"
     ]
    }
   ],
   "source": [
    "shape = 0.10407743709415807 \n",
    "scale =  0.15238354884015795\n",
    "MAX_LL = -8233.000003626761\n",
    "P= (shape/(shape+1))**scale\n",
    "e= scale/shape\n",
    "# (i)Reach\n",
    "print(\"Reach {}\".format(100*(1-P)))\n",
    "Reach = 100*(1-P)\n",
    "# (ii)Average Frequency\n",
    "print(\"Average Frequency  {}\".format(e/(1-P)))\n",
    "Avg = e/(1-P)\n",
    "# (iii) GRPS\n",
    "print(\"GRPS {}\".format(Reach*Avg))"
   ]
  },
  {
   "cell_type": "markdown",
   "id": "b34feebc",
   "metadata": {},
   "source": [
    "### Question-7 "
   ]
  },
  {
   "cell_type": "code",
   "execution_count": 79,
   "id": "63faa1c8",
   "metadata": {},
   "outputs": [
    {
     "name": "stdout",
     "output_type": "stream",
     "text": [
      "<class 'pandas.core.frame.DataFrame'>\n",
      "RangeIndex: 9451 entries, 0 to 9450\n",
      "Data columns (total 9 columns):\n",
      " #   Column         Non-Null Count  Dtype  \n",
      "---  ------         --------------  -----  \n",
      " 0   education      2537 non-null   float64\n",
      " 1   region         9440 non-null   float64\n",
      " 2   hhsz           9451 non-null   float64\n",
      " 3   age            9450 non-null   float64\n",
      " 4   income         9451 non-null   float64\n",
      " 5   child          9451 non-null   float64\n",
      " 6   race           9451 non-null   float64\n",
      " 7   country        9451 non-null   float64\n",
      " 8   Num_purchases  9451 non-null   int64  \n",
      "dtypes: float64(8), int64(1)\n",
      "memory usage: 664.6 KB\n"
     ]
    }
   ],
   "source": [
    "books02.info()"
   ]
  },
  {
   "cell_type": "code",
   "execution_count": 80,
   "id": "58441a92",
   "metadata": {},
   "outputs": [],
   "source": [
    "books02.drop(columns = ['education'], inplace=True)\n",
    "books02.dropna(inplace=True)"
   ]
  },
  {
   "cell_type": "code",
   "execution_count": 81,
   "id": "a17ea501",
   "metadata": {},
   "outputs": [
    {
     "data": {
      "text/plain": [
       "region           0\n",
       "hhsz             0\n",
       "age              0\n",
       "income           0\n",
       "child            0\n",
       "race             0\n",
       "country          0\n",
       "Num_purchases    0\n",
       "dtype: int64"
      ]
     },
     "execution_count": 81,
     "metadata": {},
     "output_type": "execute_result"
    }
   ],
   "source": [
    "books02.isna().sum()"
   ]
  },
  {
   "cell_type": "markdown",
   "id": "144aeea2",
   "metadata": {},
   "source": [
    "### Question-8"
   ]
  },
  {
   "cell_type": "code",
   "execution_count": 89,
   "id": "d4cbd024",
   "metadata": {},
   "outputs": [
    {
     "data": {
      "text/html": [
       "<div>\n",
       "<style scoped>\n",
       "    .dataframe tbody tr th:only-of-type {\n",
       "        vertical-align: middle;\n",
       "    }\n",
       "\n",
       "    .dataframe tbody tr th {\n",
       "        vertical-align: top;\n",
       "    }\n",
       "\n",
       "    .dataframe thead th {\n",
       "        text-align: right;\n",
       "    }\n",
       "</style>\n",
       "<table border=\"1\" class=\"dataframe\">\n",
       "  <thead>\n",
       "    <tr style=\"text-align: right;\">\n",
       "      <th></th>\n",
       "      <th>region</th>\n",
       "      <th>hhsz</th>\n",
       "      <th>age</th>\n",
       "      <th>income</th>\n",
       "      <th>child</th>\n",
       "      <th>race</th>\n",
       "      <th>country</th>\n",
       "      <th>Num_purchases</th>\n",
       "    </tr>\n",
       "  </thead>\n",
       "  <tbody>\n",
       "    <tr>\n",
       "      <th>0</th>\n",
       "      <td>-1.443484</td>\n",
       "      <td>-0.899071</td>\n",
       "      <td>1.653716</td>\n",
       "      <td>1.177957</td>\n",
       "      <td>-1.545319</td>\n",
       "      <td>-0.189941</td>\n",
       "      <td>-0.443085</td>\n",
       "      <td>1</td>\n",
       "    </tr>\n",
       "    <tr>\n",
       "      <th>1</th>\n",
       "      <td>-0.508917</td>\n",
       "      <td>-0.899071</td>\n",
       "      <td>0.409640</td>\n",
       "      <td>-0.369392</td>\n",
       "      <td>-1.545319</td>\n",
       "      <td>-0.189941</td>\n",
       "      <td>-0.443085</td>\n",
       "      <td>1</td>\n",
       "    </tr>\n",
       "    <tr>\n",
       "      <th>2</th>\n",
       "      <td>0.425649</td>\n",
       "      <td>1.404285</td>\n",
       "      <td>1.239024</td>\n",
       "      <td>-0.885176</td>\n",
       "      <td>0.647115</td>\n",
       "      <td>-0.189941</td>\n",
       "      <td>-0.443085</td>\n",
       "      <td>1</td>\n",
       "    </tr>\n",
       "    <tr>\n",
       "      <th>3</th>\n",
       "      <td>1.360215</td>\n",
       "      <td>-0.899071</td>\n",
       "      <td>1.239024</td>\n",
       "      <td>0.146391</td>\n",
       "      <td>0.647115</td>\n",
       "      <td>-0.189941</td>\n",
       "      <td>-0.443085</td>\n",
       "      <td>2</td>\n",
       "    </tr>\n",
       "    <tr>\n",
       "      <th>4</th>\n",
       "      <td>-1.443484</td>\n",
       "      <td>-0.131286</td>\n",
       "      <td>0.409640</td>\n",
       "      <td>1.177957</td>\n",
       "      <td>0.647115</td>\n",
       "      <td>-0.189941</td>\n",
       "      <td>-0.443085</td>\n",
       "      <td>5</td>\n",
       "    </tr>\n",
       "  </tbody>\n",
       "</table>\n",
       "</div>"
      ],
      "text/plain": [
       "     region      hhsz       age    income     child      race   country  \\\n",
       "0 -1.443484 -0.899071  1.653716  1.177957 -1.545319 -0.189941 -0.443085   \n",
       "1 -0.508917 -0.899071  0.409640 -0.369392 -1.545319 -0.189941 -0.443085   \n",
       "2  0.425649  1.404285  1.239024 -0.885176  0.647115 -0.189941 -0.443085   \n",
       "3  1.360215 -0.899071  1.239024  0.146391  0.647115 -0.189941 -0.443085   \n",
       "4 -1.443484 -0.131286  0.409640  1.177957  0.647115 -0.189941 -0.443085   \n",
       "\n",
       "   Num_purchases  \n",
       "0              1  \n",
       "1              1  \n",
       "2              1  \n",
       "3              2  \n",
       "4              5  "
      ]
     },
     "execution_count": 89,
     "metadata": {},
     "output_type": "execute_result"
    }
   ],
   "source": [
    "from sklearn.preprocessing import StandardScaler\n",
    "sc = StandardScaler()\n",
    "xvars = sc.fit_transform(books02.drop(columns=['Num_purchases']))\n",
    "books02[books02.drop(columns=['Num_purchases']).columns] = xvars\n",
    "books02.head()"
   ]
  },
  {
   "cell_type": "code",
   "execution_count": 90,
   "id": "66237790",
   "metadata": {},
   "outputs": [],
   "source": [
    "a1 = np.array(books02.loc[:,'Num_purchases'])\n",
    "a2 = np.array(books02.loc[:,'a2'])\n",
    "a3 = np.array(books02.loc[:,'a3'])\n",
    "a4 = np.array(books02.loc[:,'a4'])\n",
    "a5 = np.array(books02.loc[:,'a5'])\n",
    "a6 = np.array(books02.loc[:,'a6'])\n",
    "a7 = np.array(books02.loc[:,'a7'])\n",
    "a8 = np.array(books02.loc[:,'a8'])"
   ]
  },
  {
   "cell_type": "code",
   "execution_count": 91,
   "id": "62fff955",
   "metadata": {},
   "outputs": [],
   "source": [
    "def Possion_Regression(params, a1, a2, a3, a4, a5, a6, a7, a8):\n",
    "    lambda_0, b1, b2, b3, b4, b5, b6, b7 = params\n",
    "    ll = []\n",
    "    for i in range(len(a1)):\n",
    "        k = a1[i]\n",
    "        regr = (b1*a8[i]+b2*a7[i]+b3*a6[i]+b4*a5[i]+b5*a4[i]+b6*a3[i]+b7*a2[i])\n",
    "        lambda_i = float(abs(lambda_0)*np.exp(float(regr)))\n",
    "        ll.append(k*(np.log(abs(lambda_0))+regr)-lambda_i-round(float(np.log(float(math.factorial(k)))), 3))\n",
    "    return -1*sum(ll)"
   ]
  },
  {
   "cell_type": "code",
   "execution_count": 92,
   "id": "c3d13bd7",
   "metadata": {},
   "outputs": [
    {
     "name": "stderr",
     "output_type": "stream",
     "text": [
      "/var/folders/z4/v_l0j_d955xggmv5v8_n36640000gn/T/ipykernel_44863/2707789201.py:10: RuntimeWarning: overflow encountered in exp\n",
      "  lambda_i = float(abs(lambda_0)*np.exp(float(regr)))\n",
      "/var/folders/z4/v_l0j_d955xggmv5v8_n36640000gn/T/ipykernel_44863/2707789201.py:10: RuntimeWarning: overflow encountered in double_scalars\n",
      "  lambda_i = float(abs(lambda_0)*np.exp(float(regr)))\n"
     ]
    },
    {
     "data": {
      "text/plain": [
       "     fun: 17680.803552203855\n",
       "     jac: array([0.01464844, 0.01464844, 0.01953125, 0.01342773, 0.01123047,\n",
       "       0.01123047, 0.00732422, 0.01049805])\n",
       " message: 'Optimization terminated successfully'\n",
       "    nfev: 265\n",
       "     nit: 23\n",
       "    njev: 23\n",
       "  status: 0\n",
       " success: True\n",
       "       x: array([ 0.69606917, -0.10121027, -0.00387679,  0.06814624,  0.02278101,\n",
       "        0.00376963, -0.0653215 , -0.05698282])"
      ]
     },
     "execution_count": 92,
     "metadata": {},
     "output_type": "execute_result"
    }
   ],
   "source": [
    "soln = minimize(\n",
    "    Possion_Regression,\n",
    "    method='SLSQP',\n",
    "    args = (a1, a2, a3, a4, a5, a6, a7, a8),\n",
    "    x0 = np.array((0.1,0.1,0.1,0.1,0.1,0.1,0.1,0.1)),\n",
    "    bounds=None,\n",
    "    tol=1e-10\n",
    ")\n",
    "soln"
   ]
  },
  {
   "cell_type": "code",
   "execution_count": 93,
   "id": "ee6468ee",
   "metadata": {},
   "outputs": [
    {
     "name": "stdout",
     "output_type": "stream",
     "text": [
      "lambda_0: 0.6960691689344141 \n",
      "beta1: -0.10121026890065225 \n",
      "beta2: -0.003876785167961687 \n",
      "beta3: 0.06814623652153202 \n",
      "beta4: 0.022781008606692073 \n",
      "beta5: 0.0037696325924013088 \n",
      "beta6: -0.0653215017367833 \n",
      "beta7: -0.056982822740641995 \n",
      "MAX_LL: -17680.803552203855\n"
     ]
    }
   ],
   "source": [
    "params = tuple(soln.x)\n",
    "max_ll = -1*Possion_Regression(params, a1, a2, a3, a4, a5, a6, a7, a8)\n",
    "print('lambda_0:', soln.x[0], '\\nbeta1:', soln.x[1], '\\nbeta2:', soln.x[2], '\\nbeta3:', soln.x[3],\n",
    "      '\\nbeta4:', soln.x[4], '\\nbeta5:', soln.x[5], '\\nbeta6:', soln.x[6], '\\nbeta7:', soln.x[7],\n",
    "      '\\nMAX_LL:', max_ll)"
   ]
  },
  {
   "cell_type": "markdown",
   "id": "93991b1b",
   "metadata": {},
   "source": [
    "### Question 9 "
   ]
  },
  {
   "cell_type": "code",
   "execution_count": 95,
   "id": "0761dce5",
   "metadata": {},
   "outputs": [],
   "source": [
    "def NLL_NBR(params, a1, a2, a3, a4, a5, a6, a7, a8):\n",
    "    shape, scale, b1, b2, b3, b4, b5, b6, b7 = params\n",
    "    ll = 0\n",
    "    prob = []\n",
    "    for i in range(len(a1)):\n",
    "        k = a1[i]\n",
    "        regr = (b1*a8[i]+b2*a7[i]+b3*a6[i]+b4*a5[i]+b5*a4[i]+b6*a3[i]+b7*a2[i])\n",
    "        expo = np.exp(float(regr))\n",
    "        gam = np.log(float(math.gamma(shape+k)))-np.log(float(math.gamma(shape)))-np.log(float(math.factorial(k)))\n",
    "        term1 = -1*(shape+k)*np.log(float(scale+expo))\n",
    "        term2 = shape*np.log(float(scale))+k*regr\n",
    "        ll += gam+term1+term2\n",
    "#         break;\n",
    "    return -1*ll"
   ]
  },
  {
   "cell_type": "code",
   "execution_count": 96,
   "id": "b7442426",
   "metadata": {},
   "outputs": [
    {
     "name": "stderr",
     "output_type": "stream",
     "text": [
      "/var/folders/z4/v_l0j_d955xggmv5v8_n36640000gn/T/ipykernel_44863/3331850777.py:8: RuntimeWarning: overflow encountered in exp\n",
      "  expo = np.exp(float(regr))\n",
      "/var/folders/z4/v_l0j_d955xggmv5v8_n36640000gn/T/ipykernel_44863/3331850777.py:9: RuntimeWarning: divide by zero encountered in log\n",
      "  gam = np.log(float(math.gamma(shape+k)))-np.log(float(math.gamma(shape)))-np.log(float(math.factorial(k)))\n",
      "/var/folders/z4/v_l0j_d955xggmv5v8_n36640000gn/T/ipykernel_44863/3331850777.py:9: RuntimeWarning: invalid value encountered in double_scalars\n",
      "  gam = np.log(float(math.gamma(shape+k)))-np.log(float(math.gamma(shape)))-np.log(float(math.factorial(k)))\n",
      "/var/folders/z4/v_l0j_d955xggmv5v8_n36640000gn/T/ipykernel_44863/3331850777.py:9: RuntimeWarning: invalid value encountered in log\n",
      "  gam = np.log(float(math.gamma(shape+k)))-np.log(float(math.gamma(shape)))-np.log(float(math.factorial(k)))\n",
      "/var/folders/z4/v_l0j_d955xggmv5v8_n36640000gn/T/ipykernel_44863/3331850777.py:11: RuntimeWarning: invalid value encountered in log\n",
      "  term2 = shape*np.log(float(scale))+k*regr\n",
      "/var/folders/z4/v_l0j_d955xggmv5v8_n36640000gn/T/ipykernel_44863/3331850777.py:10: RuntimeWarning: invalid value encountered in log\n",
      "  term1 = -1*(shape+k)*np.log(float(scale+expo))\n"
     ]
    },
    {
     "data": {
      "text/plain": [
       "     fun: 8242.259467588943\n",
       "     jac: array([-0.01501465, -0.00488281, -0.00402832,  0.00012207, -0.00317383,\n",
       "       -0.0032959 , -0.00402832, -0.00231934, -0.00561523])\n",
       " message: 'Optimization terminated successfully'\n",
       "    nfev: 388\n",
       "     nit: 32\n",
       "    njev: 32\n",
       "  status: 0\n",
       " success: True\n",
       "       x: array([ 0.10220741,  0.1468624 , -0.10213137,  0.00511048,  0.07643193,\n",
       "        0.02587902, -0.00401285, -0.06539525, -0.05067842])"
      ]
     },
     "execution_count": 96,
     "metadata": {},
     "output_type": "execute_result"
    }
   ],
   "source": [
    "soln = minimize(\n",
    "    NLL_NBR,\n",
    "    method='SLSQP',\n",
    "    args = (num_purchases, a2, a3, a4, a5, a6, a7, a8),\n",
    "    x0 = np.array((2,1,0.1,0.2,0.3,0.4,0.5,0.6,0.7)),\n",
    "    bounds=None,\n",
    "    tol=1e-10,\n",
    "#     options={'ftol' : 1e-8},\n",
    ")\n",
    "soln"
   ]
  },
  {
   "cell_type": "code",
   "execution_count": 97,
   "id": "2e1f1d21",
   "metadata": {},
   "outputs": [
    {
     "name": "stdout",
     "output_type": "stream",
     "text": [
      "shape: 0.10220741345011225 \n",
      "scale: 0.14686239793924827 \n",
      "beta1: -0.1021313694168271 \n",
      "beta2: 0.005110476228908581 \n",
      "beta3: 0.0764319298366121 \n",
      "beta4: 0.025879016021248317 \n",
      "beta5: 0.025879016021248317 \n",
      "beta6: -0.004012851855950636 \n",
      "beta7: -0.06539525070779345 \n",
      "MAX_LL: -8242.259467588943\n"
     ]
    }
   ],
   "source": [
    "params = tuple(soln.x)\n",
    "max_ll = -1*NLL_NBR(params, num_purchases, a2, a3, a4, a5, a6, a7, a8)\n",
    "print('shape:', soln.x[0], '\\nscale:', soln.x[1], '\\nbeta1:', soln.x[2], '\\nbeta2:', soln.x[3], \n",
    "      '\\nbeta3:', soln.x[4], '\\nbeta4:', soln.x[5], '\\nbeta5:', soln.x[5], '\\nbeta6:', soln.x[6],\n",
    "      '\\nbeta7:', soln.x[7], '\\nMAX_LL:', max_ll)"
   ]
  },
  {
   "cell_type": "code",
   "execution_count": null,
   "id": "b7e47733",
   "metadata": {},
   "outputs": [],
   "source": []
  }
 ],
 "metadata": {
  "kernelspec": {
   "display_name": "Python 3 (ipykernel)",
   "language": "python",
   "name": "python3"
  },
  "language_info": {
   "codemirror_mode": {
    "name": "ipython",
    "version": 3
   },
   "file_extension": ".py",
   "mimetype": "text/x-python",
   "name": "python",
   "nbconvert_exporter": "python",
   "pygments_lexer": "ipython3",
   "version": "3.9.12"
  }
 },
 "nbformat": 4,
 "nbformat_minor": 5
}
